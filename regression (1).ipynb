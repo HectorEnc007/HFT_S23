{
 "cells": [
  {
   "cell_type": "markdown",
   "id": "d3ebc7f3-bdca-461c-baf4-658406bcbc3a",
   "metadata": {},
   "source": [
    "## Simple regression"
   ]
  },
  {
   "cell_type": "code",
   "execution_count": 9,
   "id": "fa5c4681-cf90-4895-a6c4-8e48dfc3134e",
   "metadata": {
    "tags": []
   },
   "outputs": [],
   "source": [
    "\n",
    "\n",
    "import scipy.io as sio  # for loading matlab data\n",
    "\n",
    "import numpy as np      # for numerical libs\n",
    "\n",
    "import pandas as pd\n",
    "\n",
    "import statsmodels.formula.api as smf"
   ]
  },
  {
   "cell_type": "code",
   "execution_count": 4,
   "id": "6cfd304a-1aa3-4a4f-ac97-ba0738d677c1",
   "metadata": {
    "tags": []
   },
   "outputs": [],
   "source": [
    "data = sio.loadmat('MSFT_20141103.mat')"
   ]
  },
  {
   "cell_type": "markdown",
   "id": "1eb27a13-5131-4ede-a8c6-ad22574d8701",
   "metadata": {},
   "source": [
    "### simple linear regression\n",
    "We want to test the model :\n",
    "𝑦𝑖=𝛽0+𝛽1∗𝑥𝑖+𝜖𝑖\n",
    "dependent variable is lag return, independent variable is return"
   ]
  },
  {
   "cell_type": "code",
   "execution_count": 5,
   "id": "4e0336a6-82af-4e98-aee0-d81ea47b0f55",
   "metadata": {
    "tags": []
   },
   "outputs": [],
   "source": [
    "LOB=data['LOB']\n",
    "\n",
    "t = (np.array((LOB['EventTime'][0][0][:,0]))-3600000*9.5)*1e-3\n",
    "bid = np.array(LOB['BuyPrice'][0][0][:,0]*1e-4)\n",
    "ask = np.array(LOB['SellPrice'][0][0][:,0]*1e-4)\n",
    "a=[bid,ask]\n",
    "columns=['bid','ask']\n",
    "data=pd.DataFrame(np.transpose(a),columns=columns,index=t)\n",
    "data['mid']=(data['bid']+data['ask'])/2"
   ]
  },
  {
   "cell_type": "code",
   "execution_count": 8,
   "id": "8231fd40-f560-48a2-870b-7f2ec3fa180b",
   "metadata": {
    "tags": []
   },
   "outputs": [],
   "source": [
    "data['returns']=np.log(data['mid'] / data['mid'].shift(1)) \n",
    "data['lreturns']= data['returns'].shift(1) \n",
    "# we now have the column of our dependent variable (return) and independent variable (lag return)"
   ]
  },
  {
   "cell_type": "code",
   "execution_count": 10,
   "id": "6e179408-f2ff-4c1d-a945-721084b99ed8",
   "metadata": {
    "tags": []
   },
   "outputs": [],
   "source": [
    "model = smf.ols(formula='returns ~lreturns', data=data).fit()\n",
    "#this is our simple linear regression model"
   ]
  },
  {
   "cell_type": "code",
   "execution_count": 11,
   "id": "5d74262f-e516-451e-a717-4cedad598d48",
   "metadata": {
    "tags": []
   },
   "outputs": [
    {
     "data": {
      "text/html": [
       "<table class=\"simpletable\">\n",
       "<caption>OLS Regression Results</caption>\n",
       "<tr>\n",
       "  <th>Dep. Variable:</th>         <td>returns</td>     <th>  R-squared:         </th>  <td>   0.001</td> \n",
       "</tr>\n",
       "<tr>\n",
       "  <th>Model:</th>                   <td>OLS</td>       <th>  Adj. R-squared:    </th>  <td>   0.001</td> \n",
       "</tr>\n",
       "<tr>\n",
       "  <th>Method:</th>             <td>Least Squares</td>  <th>  F-statistic:       </th>  <td>   213.4</td> \n",
       "</tr>\n",
       "<tr>\n",
       "  <th>Date:</th>             <td>Mon, 16 Oct 2023</td> <th>  Prob (F-statistic):</th>  <td>2.55e-48</td> \n",
       "</tr>\n",
       "<tr>\n",
       "  <th>Time:</th>                 <td>03:37:03</td>     <th>  Log-Likelihood:    </th> <td>2.2062e+06</td>\n",
       "</tr>\n",
       "<tr>\n",
       "  <th>No. Observations:</th>      <td>233998</td>      <th>  AIC:               </th> <td>-4.412e+06</td>\n",
       "</tr>\n",
       "<tr>\n",
       "  <th>Df Residuals:</th>          <td>233996</td>      <th>  BIC:               </th> <td>-4.412e+06</td>\n",
       "</tr>\n",
       "<tr>\n",
       "  <th>Df Model:</th>              <td>     1</td>      <th>                     </th>      <td> </td>    \n",
       "</tr>\n",
       "<tr>\n",
       "  <th>Covariance Type:</th>      <td>nonrobust</td>    <th>                     </th>      <td> </td>    \n",
       "</tr>\n",
       "</table>\n",
       "<table class=\"simpletable\">\n",
       "<tr>\n",
       "      <td></td>         <th>coef</th>     <th>std err</th>      <th>t</th>      <th>P>|t|</th>  <th>[0.025</th>    <th>0.975]</th>  \n",
       "</tr>\n",
       "<tr>\n",
       "  <th>Intercept</th> <td> 6.178e-08</td> <td> 4.02e-08</td> <td>    1.536</td> <td> 0.125</td> <td>-1.71e-08</td> <td> 1.41e-07</td>\n",
       "</tr>\n",
       "<tr>\n",
       "  <th>lreturns</th>  <td>   -0.0301</td> <td>    0.002</td> <td>  -14.610</td> <td> 0.000</td> <td>   -0.034</td> <td>   -0.026</td>\n",
       "</tr>\n",
       "</table>\n",
       "<table class=\"simpletable\">\n",
       "<tr>\n",
       "  <th>Omnibus:</th>       <td>116617.673</td> <th>  Durbin-Watson:     </th>   <td>   2.007</td>   \n",
       "</tr>\n",
       "<tr>\n",
       "  <th>Prob(Omnibus):</th>   <td> 0.000</td>   <th>  Jarque-Bera (JB):  </th> <td>483560945.390</td>\n",
       "</tr>\n",
       "<tr>\n",
       "  <th>Skew:</th>            <td> 0.598</td>   <th>  Prob(JB):          </th>   <td>    0.00</td>   \n",
       "</tr>\n",
       "<tr>\n",
       "  <th>Kurtosis:</th>        <td>225.699</td>  <th>  Cond. No.          </th>   <td>5.12e+04</td>   \n",
       "</tr>\n",
       "</table><br/><br/>Notes:<br/>[1] Standard Errors assume that the covariance matrix of the errors is correctly specified.<br/>[2] The condition number is large, 5.12e+04. This might indicate that there are<br/>strong multicollinearity or other numerical problems."
      ],
      "text/latex": [
       "\\begin{center}\n",
       "\\begin{tabular}{lclc}\n",
       "\\toprule\n",
       "\\textbf{Dep. Variable:}    &     returns      & \\textbf{  R-squared:         } &       0.001    \\\\\n",
       "\\textbf{Model:}            &       OLS        & \\textbf{  Adj. R-squared:    } &       0.001    \\\\\n",
       "\\textbf{Method:}           &  Least Squares   & \\textbf{  F-statistic:       } &       213.4    \\\\\n",
       "\\textbf{Date:}             & Mon, 16 Oct 2023 & \\textbf{  Prob (F-statistic):} &    2.55e-48    \\\\\n",
       "\\textbf{Time:}             &     03:37:03     & \\textbf{  Log-Likelihood:    } &   2.2062e+06   \\\\\n",
       "\\textbf{No. Observations:} &      233998      & \\textbf{  AIC:               } &   -4.412e+06   \\\\\n",
       "\\textbf{Df Residuals:}     &      233996      & \\textbf{  BIC:               } &   -4.412e+06   \\\\\n",
       "\\textbf{Df Model:}         &           1      & \\textbf{                     } &                \\\\\n",
       "\\textbf{Covariance Type:}  &    nonrobust     & \\textbf{                     } &                \\\\\n",
       "\\bottomrule\n",
       "\\end{tabular}\n",
       "\\begin{tabular}{lcccccc}\n",
       "                   & \\textbf{coef} & \\textbf{std err} & \\textbf{t} & \\textbf{P$> |$t$|$} & \\textbf{[0.025} & \\textbf{0.975]}  \\\\\n",
       "\\midrule\n",
       "\\textbf{Intercept} &    6.178e-08  &     4.02e-08     &     1.536  &         0.125        &    -1.71e-08    &     1.41e-07     \\\\\n",
       "\\textbf{lreturns}  &      -0.0301  &        0.002     &   -14.610  &         0.000        &       -0.034    &       -0.026     \\\\\n",
       "\\bottomrule\n",
       "\\end{tabular}\n",
       "\\begin{tabular}{lclc}\n",
       "\\textbf{Omnibus:}       & 116617.673 & \\textbf{  Durbin-Watson:     } &       2.007    \\\\\n",
       "\\textbf{Prob(Omnibus):} &    0.000   & \\textbf{  Jarque-Bera (JB):  } & 483560945.390  \\\\\n",
       "\\textbf{Skew:}          &    0.598   & \\textbf{  Prob(JB):          } &        0.00    \\\\\n",
       "\\textbf{Kurtosis:}      &  225.699   & \\textbf{  Cond. No.          } &    5.12e+04    \\\\\n",
       "\\bottomrule\n",
       "\\end{tabular}\n",
       "%\\caption{OLS Regression Results}\n",
       "\\end{center}\n",
       "\n",
       "Notes: \\newline\n",
       " [1] Standard Errors assume that the covariance matrix of the errors is correctly specified. \\newline\n",
       " [2] The condition number is large, 5.12e+04. This might indicate that there are \\newline\n",
       " strong multicollinearity or other numerical problems."
      ],
      "text/plain": [
       "<class 'statsmodels.iolib.summary.Summary'>\n",
       "\"\"\"\n",
       "                            OLS Regression Results                            \n",
       "==============================================================================\n",
       "Dep. Variable:                returns   R-squared:                       0.001\n",
       "Model:                            OLS   Adj. R-squared:                  0.001\n",
       "Method:                 Least Squares   F-statistic:                     213.4\n",
       "Date:                Mon, 16 Oct 2023   Prob (F-statistic):           2.55e-48\n",
       "Time:                        03:37:03   Log-Likelihood:             2.2062e+06\n",
       "No. Observations:              233998   AIC:                        -4.412e+06\n",
       "Df Residuals:                  233996   BIC:                        -4.412e+06\n",
       "Df Model:                           1                                         \n",
       "Covariance Type:            nonrobust                                         \n",
       "==============================================================================\n",
       "                 coef    std err          t      P>|t|      [0.025      0.975]\n",
       "------------------------------------------------------------------------------\n",
       "Intercept   6.178e-08   4.02e-08      1.536      0.125   -1.71e-08    1.41e-07\n",
       "lreturns      -0.0301      0.002    -14.610      0.000      -0.034      -0.026\n",
       "==============================================================================\n",
       "Omnibus:                   116617.673   Durbin-Watson:                   2.007\n",
       "Prob(Omnibus):                  0.000   Jarque-Bera (JB):        483560945.390\n",
       "Skew:                           0.598   Prob(JB):                         0.00\n",
       "Kurtosis:                     225.699   Cond. No.                     5.12e+04\n",
       "==============================================================================\n",
       "\n",
       "Notes:\n",
       "[1] Standard Errors assume that the covariance matrix of the errors is correctly specified.\n",
       "[2] The condition number is large, 5.12e+04. This might indicate that there are\n",
       "strong multicollinearity or other numerical problems.\n",
       "\"\"\""
      ]
     },
     "execution_count": 11,
     "metadata": {},
     "output_type": "execute_result"
    }
   ],
   "source": [
    "model.summary()"
   ]
  },
  {
   "cell_type": "code",
   "execution_count": null,
   "id": "0b5be2df-815c-4ba5-b581-916c2cc1d4e5",
   "metadata": {},
   "outputs": [],
   "source": []
  }
 ],
 "metadata": {
  "kernelspec": {
   "display_name": "Python 3 (ipykernel)",
   "language": "python",
   "name": "python3"
  },
  "language_info": {
   "codemirror_mode": {
    "name": "ipython",
    "version": 3
   },
   "file_extension": ".py",
   "mimetype": "text/x-python",
   "name": "python",
   "nbconvert_exporter": "python",
   "pygments_lexer": "ipython3",
   "version": "3.11.4"
  }
 },
 "nbformat": 4,
 "nbformat_minor": 5
}
